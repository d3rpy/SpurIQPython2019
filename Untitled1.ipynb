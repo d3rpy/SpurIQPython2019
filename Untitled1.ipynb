{
 "cells": [
  {
   "cell_type": "code",
   "execution_count": 5,
   "metadata": {},
   "outputs": [],
   "source": [
    "import sqlite3\n",
    "\n",
    "def createTable():\n",
    "    mydb = sqlite3.connect(\"mydatabase.db\")\n",
    "    mycursor = mydb.cursor()\n",
    "    mycursor.execute(\"CREATE TABLE FavFood (id INTEGER PRIMARY KEY, food VARCHAR(255), foodType VARCHAR(255))\")\n",
    "    mydb.close()\n",
    "\n",
    "def fillTable():\n",
    "    mydb = sqlite3.connect(\"mydatabase.db\")\n",
    "    mycursor = mydb.cursor()\n",
    "    sql = \"INSERT INTO FavFood (food, foodType) VALUES (?, ?)\"\n",
    "    val = [\n",
    "    ('Pizza', 'Italian'),\n",
    "    ('Apple Pie', 'Snack'),\n",
    "    ('Beef Stew', 'American'),\n",
    "    ('Hot Chocolate', 'Drink'),\n",
    "    ('Shrimp', 'Of the Chinese Sort'),\n",
    "    ]\n",
    "    mycursor.executemany(sql, val)\n",
    "    mydb.commit()\n",
    "    mydb.close()\n",
    "    \n",
    "def viewTable():\n",
    "    mydb = sqlite3.connect(\"mydatabase.db\")\n",
    "    mycursor = mydb.cursor()\n",
    "    sql = \"SELECT * FROM FavFood ORDER BY food\"\n",
    "    mycursor.execute(sql)\n",
    "    myresult = mycursor.fetchall()\n",
    "    for x in myresult:\n",
    "      print(x)\n",
    "    mydb.close()\n",
    "\n",
    "def deleteTable():\n",
    "    mydb = sqlite3.connect(\"mydatabase.db\")\n",
    "    mycursor = mydb.cursor()\n",
    "    sql = \"DROP TABLE IF EXISTS FavFood\"\n",
    "    mycursor.execute(sql)\n",
    "    mydb.close()"
   ]
  },
  {
   "cell_type": "code",
   "execution_count": 6,
   "metadata": {},
   "outputs": [
    {
     "name": "stdout",
     "output_type": "stream",
     "text": [
      "(2, 'Apple Pie', 'Snack')\n",
      "(3, 'Beef Stew', 'American')\n",
      "(4, 'Hot Chocolate', 'Drink')\n",
      "(1, 'Pizza', 'Italian')\n",
      "(5, 'Shrimp', 'Of the Chinese Sort')\n"
     ]
    }
   ],
   "source": [
    "deleteTable()\n",
    "createTable()\n",
    "fillTable()\n",
    "viewTable()"
   ]
  },
  {
   "cell_type": "code",
   "execution_count": null,
   "metadata": {},
   "outputs": [],
   "source": []
  }
 ],
 "metadata": {
  "kernelspec": {
   "display_name": "Python 3",
   "language": "python",
   "name": "python3"
  },
  "language_info": {
   "codemirror_mode": {
    "name": "ipython",
    "version": 3
   },
   "file_extension": ".py",
   "mimetype": "text/x-python",
   "name": "python",
   "nbconvert_exporter": "python",
   "pygments_lexer": "ipython3",
   "version": "3.7.3"
  }
 },
 "nbformat": 4,
 "nbformat_minor": 2
}
