{
 "cells": [
  {
   "cell_type": "code",
   "execution_count": 63,
   "metadata": {},
   "outputs": [],
   "source": [
    "import sqlite3\n",
    "import random"
   ]
  },
  {
   "cell_type": "markdown",
   "metadata": {},
   "source": [
    "# Database Setup "
   ]
  },
  {
   "cell_type": "code",
   "execution_count": 66,
   "metadata": {},
   "outputs": [],
   "source": [
    "def create():\n",
    "    mydb = sqlite3.connect(\"TriviaGame.db\")\n",
    "    mycursor = mydb.cursor()\n",
    "    mycursor.execute(\"CREATE TABLE triviaGame (id INTEGER PRIMARY KEY, Question VARCHAR(255), Answer VARCHAR(255), Category VARCHAR(255))\")\n",
    "    mydb.close()\n",
    "def delete():\n",
    "    mydb = sqlite3.connect(\"TriviaGame.db\")\n",
    "    mycursor = mydb.cursor()\n",
    "    mycursor.execute(\"DROP TABLE IF EXISTS triviaGame\")\n",
    "    mydb.close()\n",
    "def fill():\n",
    "    mydb = sqlite3.connect(\"TriviaGame.db\")\n",
    "    mycursor = mydb.cursor()\n",
    "    sql = \"INSERT INTO triviaGame (Question, Answer, Category) VALUES (?, ?, ?)\"\n",
    "    val = [\n",
    "    (\"What was the first capital ship sunk in WW1?\", \"HMS Audacious\", \"history\"),\n",
    "    (\"In which year did the demolition of the Berlin Wall begin?\", \"1989\", \"history\"),\n",
    "    (\"When did New York become a state?\", \"1788\", \"history\"),\n",
    "    (\"In which year did the UK hand over Hong Kong to China?\", \"1997\", \"history\"),\n",
    "    (\"What was the first naval point - defense missile system?\", \"seacat\", \"history\"),\n",
    "    (\"Is it possible to create a right triangle where all 3 sides are the same length?\", \"no\", \"math\"),\n",
    "    (\"If x * y = x/y, what is 5(25 * 5)?\", \"1\", \"math\"),\n",
    "    (\"How do you find the area of a circle?\", \"pi times radius squared\", \"math\"),\n",
    "    (\"You drive up a hill at 40mph. You drive down at 60mph. What is your average speed?\", \"48mph\", \"math\"),\n",
    "    (\"a squared + b squared = c squared. What is this called?\", \"pythagorean theorem\", \"math\"),\n",
    "    (\"What is the largest island on Earth?\", \"greenland\", \"geography\"),\n",
    "    (\"What is the longest river in China?\", \"yangtze\", \"geography\"),\n",
    "    (\"How many countries begin with the letter J?\", \"3\", \"geography\"),\n",
    "    (\"How many provinces are in China?\", \"22\", \"geography\"),\n",
    "    (\"How many U.S. Terriories are there?\", \"5\", \"geography\"),\n",
    "    (\"What is the country that has the most rivers?\", \"russia\", \"geography\"),\n",
    "    ]\n",
    "    mycursor.executemany(sql, val)\n",
    "    mydb.commit()\n",
    "    mydb.close()\n",
    "def getQuestions(category):\n",
    "    mydb = sqlite3.connect(\"TriviaGame.db\")\n",
    "    mycursor = mydb.cursor()\n",
    "    sql = \"SELECT * FROM triviaGame WHERE Category=?\"\n",
    "    val = (category,)\n",
    "    mycursor.execute(sql,val)\n",
    "    myresult = mycursor.fetchall()\n",
    "    mydb.close()\n",
    "    return myresult\n"
   ]
  },
  {
   "cell_type": "markdown",
   "metadata": {},
   "source": [
    "# Game"
   ]
  },
  {
   "cell_type": "code",
   "execution_count": 73,
   "metadata": {},
   "outputs": [
    {
     "name": "stdout",
     "output_type": "stream",
     "text": [
      "Do you want to play Trivia with Geography, Math, or History? history\n",
      "\n",
      "Beginning history Trivia game. Please type 'quit' to exit at any time.\n",
      "When did New York become a state? never\n",
      "WRONG LOL XD UR BAD\n",
      "Your score: 0\n",
      "\n",
      "What was the first capital ship sunk in WW1? hms audacious\n",
      "WRONG LOL XD UR BAD\n",
      "Your score: 0\n",
      "\n",
      "In which year did the demolition of the Berlin Wall begin? idk\n",
      "WRONG LOL XD UR BAD\n",
      "Your score: 0\n",
      "\n",
      "In which year did the UK hand over Hong Kong to China? d\n",
      "WRONG LOL XD UR BAD\n",
      "Your score: 0\n",
      "\n",
      "What was the first naval point - defense missile system? d\n",
      "WRONG LOL XD UR BAD\n",
      "Your score: 0\n",
      "\n",
      "That's all! Thanks for playing!\n",
      "Your score for history was: 0 out of 5\n"
     ]
    }
   ],
   "source": [
    "delete()\n",
    "create()\n",
    "fill()\n",
    "\n",
    "category = input(\"Do you want to play Trivia with Geography, Math, or History? \")\n",
    "print(\"\")\n",
    "print(\"Beginning \" + category + \" Trivia game. Please type 'quit' to exit at any time.\")\n",
    "questions = getQuestions(category)\n",
    "numQuestions = len(questions)\n",
    "score = 0\n",
    "while True:\n",
    "    if len(questions) == 0:\n",
    "        print(\"That's all! Thanks for playing!\")\n",
    "        print(\"Your score for \" + category + \" was: \" + str(score) + \" out of \" + str(numQuestions))\n",
    "        break\n",
    "    selected = random.choice(questions)\n",
    "    question = selected[1]\n",
    "    correct_answer = selected[2]\n",
    "    questions.remove(selected)\n",
    "    user_answer = input(question + \" \")\n",
    "    if user_answer.lower() == 'quit':\n",
    "        print(\"Exiting game...\")\n",
    "        print(\"Your score for \" + category + \" was: \" + str(score) + \" out of \" + str(numQuestions))\n",
    "        break\n",
    "    elif user_answer.lower() == correct_answer:\n",
    "        print(\"Correct!\")\n",
    "        score += 1\n",
    "    else:\n",
    "        print(\"WRONG LOL XD UR BAD\")\n",
    "    print(\"Your score:\",score)\n",
    "    print(\"\")"
   ]
  },
  {
   "cell_type": "code",
   "execution_count": null,
   "metadata": {},
   "outputs": [],
   "source": []
  }
 ],
 "metadata": {
  "kernelspec": {
   "display_name": "Python 3",
   "language": "python",
   "name": "python3"
  },
  "language_info": {
   "codemirror_mode": {
    "name": "ipython",
    "version": 3
   },
   "file_extension": ".py",
   "mimetype": "text/x-python",
   "name": "python",
   "nbconvert_exporter": "python",
   "pygments_lexer": "ipython3",
   "version": "3.7.3"
  }
 },
 "nbformat": 4,
 "nbformat_minor": 2
}
