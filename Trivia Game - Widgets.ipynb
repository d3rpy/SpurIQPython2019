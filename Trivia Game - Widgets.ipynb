{
 "cells": [
  {
   "cell_type": "markdown",
   "metadata": {},
   "source": [
    "# Setup"
   ]
  },
  {
   "cell_type": "code",
   "execution_count": 1,
   "metadata": {},
   "outputs": [],
   "source": [
    "import sqlite3\n",
    "import ipywidgets as widgets\n",
    "import random\n",
    "import ast"
   ]
  },
  {
   "cell_type": "markdown",
   "metadata": {},
   "source": [
    "# SQL Functions"
   ]
  },
  {
   "cell_type": "code",
   "execution_count": 3,
   "metadata": {},
   "outputs": [],
   "source": [
    "def create():\n",
    "    mydb = sqlite3.connect(\"TriviaGame.db\")\n",
    "    mycursor = mydb.cursor()\n",
    "    mycursor.execute(\"CREATE TABLE TriviaQs (id INTEGER PRIMARY KEY, Question VARCHAR(255), Answer VARCHAR(255), Category VARCHAR(255))\")\n",
    "    mydb.close()\n",
    "\n",
    "def insert():\n",
    "    mydb = sqlite3.connect(\"TriviaGame.db\")\n",
    "    mycursor = mydb.cursor()\n",
    "    sql = \"INSERT INTO TriviaQs (Question, Answer, Category) VALUES (?, ?, ?)\"\n",
    "    val = [\n",
    "    (\"What was the first capital ship sunk in WW1?\", \"HMS Audacious\", \"history\"),\n",
    "    (\"In which year did the demolition of the Berlin Wall begin?\", \"1989\", \"history\"),\n",
    "    (\"When did New York become a state?\", \"1788\", \"history\"),\n",
    "    (\"In which year did the UK hand over Hong Kong to China?\", \"1997\", \"history\"),\n",
    "    (\"What was the first naval point - defense missile system?\", \"seacat\", \"history\"),\n",
    "    (\"Is it possible to create a right triangle where all 3 sides are the same length?\", \"no\", \"math\"),\n",
    "    (\"If x * y = x/y, what is 5(25 * 5)?\", \"1\", \"math\"),\n",
    "    (\"How do you find the area of a circle?\", \"pi times radius squared\", \"math\"),\n",
    "    (\"You drive up a hill at 40mph. You drive down at 60mph. What is your average speed?\", \"48mph\", \"math\"),\n",
    "    (\"a squared + b squared = c squared. What is this called?\", \"pythagorean theorem\", \"math\"),\n",
    "    (\"What is the largest island on Earth?\", \"greenland\", \"geography\"),\n",
    "    (\"What is the longest river in China?\", \"yangtze\", \"geography\"),\n",
    "    (\"How many countries begin with the letter J?\", \"3\", \"geography\"),\n",
    "    (\"How many provinces are in China?\", \"22\", \"geography\"),\n",
    "    (\"How many U.S. Terriories are there?\", \"5\", \"geography\"),\n",
    "    (\"What is the country that has the most rivers?\", \"russia\", \"geography\"),\n",
    "    (\"lil wolfie or dexter?\", \"lil wolfie\", \"stuffies\"),\n",
    "    (\"stuffies or 'professionals' aka brats?\", \"stuffies\", \"stuffies\"),\n",
    "    (\"What is a stuffies favorite meat?\", \"bratwurst\", \"stuffies\"),\n",
    "    (\"What is a delicacy in bratland?\", \"wolf meat\", \"stuffies\")\n",
    "    ]\n",
    "    \n",
    "    mycursor.executemany(sql, val)\n",
    "    mydb.commit()\n",
    "    mydb.close()\n",
    "\n",
    "def delete():\n",
    "    mydb = sqlite3.connect(\"TriviaGame.db\")\n",
    "    mycursor = mydb.cursor()\n",
    "    mycursor.execute(\"DROP TABLE IF EXISTS TriviaQs\")\n",
    "    mydb.close()\n",
    "    \n",
    "def getQuestions(category):\n",
    "    mydb = sqlite3.connect(\"TriviaGame.db\")\n",
    "    mycursor = mydb.cursor()\n",
    "    sql = \"SELECT * FROM TriviaQs WHERE Category = ?\"\n",
    "    val = [category,]\n",
    "    mycursor.execute(sql,val)\n",
    "    results = mycursor.fetchall()\n",
    "    return results\n",
    "    \n",
    "def deleteFromTable(id):\n",
    "    mydb = sqlite3.connect(\"TriviaGame.db\")\n",
    "    mycursor = mydb.cursor()\n",
    "    sql = \"DELETE FROM TriviaQs WHERE id = ?\"\n",
    "    val = (id,)\n",
    "    mycursor.execute(sql, val)\n",
    "    mydb.commit()\n",
    "    mydb.close()"
   ]
  },
  {
   "cell_type": "markdown",
   "metadata": {},
   "source": [
    "# Game Functions"
   ]
  },
  {
   "cell_type": "code",
   "execution_count": 5,
   "metadata": {},
   "outputs": [
    {
     "data": {
      "application/vnd.jupyter.widget-view+json": {
       "model_id": "",
       "version_major": 2,
       "version_minor": 0
      },
      "text/plain": [
       "ToggleButtons(description='Category:', options=('Geography', 'Math', 'Science'), value='Geography')"
      ]
     },
     "metadata": {},
     "output_type": "display_data"
    },
    {
     "data": {
      "application/vnd.jupyter.widget-view+json": {
       "model_id": "",
       "version_major": 2,
       "version_minor": 0
      },
      "text/plain": [
       "Button(description='Go!', style=ButtonStyle())"
      ]
     },
     "metadata": {},
     "output_type": "display_data"
    },
    {
     "data": {
      "application/vnd.jupyter.widget-view+json": {
       "model_id": "ba9b195b5180466a817b74705dd34e82",
       "version_major": 2,
       "version_minor": 0
      },
      "text/plain": [
       "Label(value=\"That's all! Thanks for playing!\")"
      ]
     },
     "metadata": {},
     "output_type": "display_data"
    },
    {
     "data": {
      "text/plain": [
       "Label(value='')"
      ]
     },
     "metadata": {},
     "output_type": "display_data"
    },
    {
     "data": {
      "text/plain": [
       "Text(value='', description='Answer:', placeholder='Answer here...')"
      ]
     },
     "metadata": {},
     "output_type": "display_data"
    },
    {
     "data": {
      "text/plain": [
       "HBox(children=(Button(description='Submit answer!', style=ButtonStyle()), Button(description='Next question!', style=ButtonStyle())))"
      ]
     },
     "metadata": {},
     "output_type": "display_data"
    },
    {
     "data": {
      "text/plain": [
       "Label(value='')"
      ]
     },
     "metadata": {},
     "output_type": "display_data"
    }
   ],
   "source": [
    "# Setup SQL Database\n",
    "delete()\n",
    "create()\n",
    "insert()\n",
    "\n",
    "def askQuestion():\n",
    "    category = categoryButton.value\n",
    "    results = getQuestions(category)\n",
    "    if len(results) == 0:\n",
    "        buttonBox.close()\n",
    "        question.close()\n",
    "        user_answer.close()\n",
    "        correct_answer.close()\n",
    "        result.close()\n",
    "        display(end_game)\n",
    "        return\n",
    "    selectedQuestion = random.choice(results)\n",
    "    i = selectedQuestion[0]\n",
    "    q = selectedQuestion[1]\n",
    "    a = selectedQuestion[2]\n",
    "    deleteFromTable(i)\n",
    "    question.value = 'Question: ' + q\n",
    "    correct_answer.value = a\n",
    "\n",
    "def beginGame(b):\n",
    "    categoryButton.close()\n",
    "    goButton.close()\n",
    "    askQuestion()\n",
    "    display(question)\n",
    "    display(user_answer)\n",
    "    display(buttonBox)\n",
    "    display(result)\n",
    "    nextButton.disabled = True\n",
    "    \n",
    "def submitAnswer(b):\n",
    "    submitButton.disabled = True\n",
    "    if user_answer.value == \"\" or user_answer.value == \" \":\n",
    "        result.value = \"Incorrect!\"\n",
    "    elif user_answer.value.lower() in ast.literal_eval(correct_answer.value):\n",
    "        result.value = \"Correct!\"\n",
    "    else:\n",
    "        result.value = \"Incorrect!\"\n",
    "    nextButton.disabled = False\n",
    "\n",
    "def nextQuestion(b):\n",
    "    nextButton.disabled = True\n",
    "    result.value = \"\"\n",
    "    user_answer.value = \"\"\n",
    "    askQuestion()\n",
    "    submitButton.disabled = False\n",
    "\n",
    "categories = ['Geography','Math','Science']\n",
    "\n",
    "# Add Category, Go, Submit, and Next Buttons\n",
    "categoryButton = widgets.ToggleButtons(options=categories, value=categories[0], description='Category:')\n",
    "goButton = widgets.Button(description='Go!')\n",
    "submitButton = widgets.Button(description='Submit answer!')\n",
    "nextButton = widgets.Button(description='Next question!')\n",
    "buttonBox = widgets.HBox([submitButton,nextButton])\n",
    "display(categoryButton)\n",
    "display(goButton)\n",
    "\n",
    "# Question, User Answer, Correct Answer, Results, and End Game Widgets\n",
    "question = widgets.Label()\n",
    "user_answer = widgets.Text(placeholder='Answer here...',description='Answer:')\n",
    "correct_answer = widgets.Text()\n",
    "result = widgets.Label()\n",
    "end_game = widgets.Label(\"That's all! Thanks for playing!\")\n",
    "\n",
    "# On_Click Methods\n",
    "goButton.on_click(beginGame)\n",
    "submitButton.on_click(submitAnswer)\n",
    "nextButton.on_click(nextQuestion)"
   ]
  }
 ],
 "metadata": {
  "kernelspec": {
   "display_name": "Python 3",
   "language": "python",
   "name": "python3"
  },
  "language_info": {
   "codemirror_mode": {
    "name": "ipython",
    "version": 3
   },
   "file_extension": ".py",
   "mimetype": "text/x-python",
   "name": "python",
   "nbconvert_exporter": "python",
   "pygments_lexer": "ipython3",
   "version": "3.7.3"
  }
 },
 "nbformat": 4,
 "nbformat_minor": 2
}
