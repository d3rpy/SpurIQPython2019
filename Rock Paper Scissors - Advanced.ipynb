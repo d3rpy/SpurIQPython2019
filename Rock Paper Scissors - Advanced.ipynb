{
 "cells": [
  {
   "cell_type": "code",
   "execution_count": 2,
   "metadata": {},
   "outputs": [
    {
     "name": "stdout",
     "output_type": "stream",
     "text": [
      "Your move: r\n",
      "Computer move: r\n",
      "It's a tie!\n",
      "Your score: 0\n",
      "Computer score: 0\n",
      "\n",
      "\n",
      "Your move: r\n",
      "Computer move: r\n",
      "It's a tie!\n",
      "Your score: 0\n",
      "Computer score: 0\n",
      "\n",
      "\n",
      "Your move: r\n",
      "Computer move: p\n",
      "You lose!\n",
      "Your score: 0\n",
      "Computer score: 1\n",
      "\n",
      "\n",
      "Your move: r\n",
      "Computer move: p\n",
      "You lose!\n",
      "Your score: 0\n",
      "Computer score: 2\n",
      "\n",
      "\n",
      "Your move: \n",
      "That is not a valid move.\n",
      "Please choose r, p, or s to play, or choose q to quit.\n",
      "Your move: \n",
      "That is not a valid move.\n",
      "Please choose r, p, or s to play, or choose q to quit.\n",
      "Your move: r\n",
      "Computer move: p\n",
      "You lose!\n",
      "Your score: 0\n",
      "Computer score: 3\n",
      "\n",
      "\n",
      "Your move: q\n",
      "Your final score: 0\n",
      "Computer final score: 3\n",
      "You lost the game HAHAHA SO DUMB KID XDXDXD #PitPurge\n"
     ]
    }
   ],
   "source": [
    "import numpy\n",
    "\n",
    "moves = ['r','p','s']\n",
    "computer_probabilities = [0.5,0.2,0.3]\n",
    "player_wins = ['pr','sp','rs']\n",
    "player_score = 0\n",
    "computer_score = 0\n",
    "\n",
    "while True:\n",
    "    player_move = input(\"Your move: \")\n",
    "    if player_move == 'q':\n",
    "        break\n",
    "    elif player_move not in moves:\n",
    "        print(\"That is not a valid move.\")\n",
    "        print(\"Please choose r, p, or s to play, or choose q to quit.\")\n",
    "        continue\n",
    "    computer_move = numpy.random.choice(moves,p=computer_probabilities)\n",
    "    print(\"Computer move:\",computer_move)\n",
    "    if player_move == computer_move:\n",
    "        print(\"It's a tie!\")\n",
    "    elif player_move + computer_move in player_wins:\n",
    "        print(\"You win!\")\n",
    "        player_score += 1\n",
    "    else:\n",
    "        print(\"You lose!\")\n",
    "        computer_score += 1\n",
    "    print(\"Your score:\",player_score)\n",
    "    print(\"Computer score:\",computer_score)\n",
    "    print(\"\\n\")\n",
    "\n",
    "print(\"Your final score:\",player_score)\n",
    "print(\"Computer final score:\",computer_score)\n",
    "if player_score == computer_score:\n",
    "    print(\"The game was a tie!\")\n",
    "elif player_score > computer_score:\n",
    "    print(\"You won the game! :)\")\n",
    "else:\n",
    "    print(\"You lost the game HAHAHA SO DUMB KID XDXDXD #PitPurge\")"
   ]
  },
  {
   "cell_type": "raw",
   "metadata": {},
   "source": []
  }
 ],
 "metadata": {
  "kernelspec": {
   "display_name": "Python 3",
   "language": "python",
   "name": "python3"
  },
  "language_info": {
   "codemirror_mode": {
    "name": "ipython",
    "version": 3
   },
   "file_extension": ".py",
   "mimetype": "text/x-python",
   "name": "python",
   "nbconvert_exporter": "python",
   "pygments_lexer": "ipython3",
   "version": "3.7.3"
  }
 },
 "nbformat": 4,
 "nbformat_minor": 2
}
