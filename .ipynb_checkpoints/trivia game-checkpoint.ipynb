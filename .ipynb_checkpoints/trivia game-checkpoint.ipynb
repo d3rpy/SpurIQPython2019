{
 "cells": [
  {
   "cell_type": "code",
   "execution_count": null,
   "metadata": {},
   "outputs": [],
   "source": [
    "import sqlite3\n"
   ]
  },
  {
   "cell_type": "markdown",
   "metadata": {},
   "source": [
    "# Database Setup"
   ]
  },
  {
   "cell_type": "code",
   "execution_count": null,
   "metadata": {},
   "outputs": [],
   "source": [
    "import sqlite3\n",
    "\n",
    "def createTable():\n",
    "    mydb = sqlite3.connect(\"mydatabase.db\")\n",
    "    mycursor = mydb.cursor()\n",
    "    mycursor.execute(\"CREATE TABLE triviaGame (id INTEGER PRIMARY KEY, Question VARCHAR(255), Answer VARCHAR(255), Category VARCHAR(255))\")\n",
    "    mydb.close()\n",
    "\n",
    "def fillTable():\n",
    "    mydb = sqlite3.connect(\"triviaGame.db\")\n",
    "    mycursor = mydb.cursor()\n",
    "    sql = \"INSERT INTO TriviaGame (Question, Answer, Category) VALUES (?, ?, ?)\"\n",
    "    val = [\n",
    "    (\"What was the first capital ship sunk in WW1?\", \"HMS Audacious\", \"history\"),\n",
    "    (\"In which year did the demolition of the Berlin Wall begin?\", \"1989\", \"history\"),\n",
    "    (\"When did New York become a state?\", \"1788\", \"history\"),\n",
    "    (\"In which year did the UK hand over Hong Kong to China?\", \"1997\", \"history\"),\n",
    "    (\"What was the first naval point - defense missile system?\", \"Seacat, seacat\", \"history\"),\n",
    "    (\"Is it possible to create a right triangle where all 3 sides are the same length?\", \"No\", \"math\"),\n",
    "    (\"If x * y = x/y, what is 5(25 * 5)?\", \"1\", \"math\"),\n",
    "    (\"How do you find the area of a circle?\", \"pi * radius squared, pi times radius squared\", \"Math\"),\n",
    "    (\"You drive up a hill at 40mph. You drive down at 60mph. What is your average speed?\", \"48mph, 48 mph\", \"math\"),\n",
    "    (\"a squared + b squared = c squared. What is this called?\", \"Pythagorean Theorem, pythagorean theorem\", \"math\")\n",
    "    (\"What is the largest island on Earth?\", \"Greenland\", \"geography\"),\n",
    "    (\"What is the longest river in China?\", \"Yangtze, Yangtze River, Yangtze river, yangtze river, yangtze\", \"geography\"),\n",
    "    (\"How many provinces are in China?\", \"22\", \"geography\"),\n",
    "    (\"How many U.S. Terriories are there?\", \"5\", \"geography\")\n",
    "    ]\n",
    "    \n",
    "    mycursor.executemany(sql, val)\n",
    "    mydb.commit()\n",
    "    mydb.close()\n",
    "    \n",
    "def Getquestions(category):\n",
    "    mydb = sqlite3.connect(\"mydatabase.db\")\n",
    "    mycursor = mydb.cursor()\n",
    "    sql = \"SELECT * FROM triviaGame\"\n",
    "    mycursor.execute(sql)\n",
    "    myresult = mycursor.fetchall()\n",
    "    for x in myresult:\n",
    "      print(x)\n",
    "    mydb.close()\n"
   ]
  },
  {
   "cell_type": "markdown",
   "metadata": {},
   "source": [
    "# Game"
   ]
  },
  {
   "cell_type": "code",
   "execution_count": null,
   "metadata": {},
   "outputs": [],
   "source": [
    "delete()\n",
    "create()\n",
    "insert()\n",
    "\n",
    "\n",
    "category = input(\"Do you want to be quizzed on geography, math, or history?\")\n",
    "print(\"\")\n",
    "print(\"Beginning \") + category + \"Trivia game. Please type 'quit' to exit at any time.\"\n",
    "Questions = get"
   ]
  }
 ],
 "metadata": {
  "kernelspec": {
   "display_name": "Python 3",
   "language": "python",
   "name": "python3"
  },
  "language_info": {
   "codemirror_mode": {
    "name": "ipython",
    "version": 3
   },
   "file_extension": ".py",
   "mimetype": "text/x-python",
   "name": "python",
   "nbconvert_exporter": "python",
   "pygments_lexer": "ipython3",
   "version": "3.7.3"
  }
 },
 "nbformat": 4,
 "nbformat_minor": 2
}
